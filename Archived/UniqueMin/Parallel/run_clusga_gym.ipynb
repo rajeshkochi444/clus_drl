{
 "cells": [
  {
   "cell_type": "code",
   "execution_count": 1,
   "metadata": {},
   "outputs": [
    {
     "name": "stdout",
     "output_type": "stream",
     "text": [
      "env: MKL_NUM_THREADS=1\n",
      "env: OMP_NUM_THREADS=1\n",
      "env: NUMEXPR_NUM_THREADS=1\n",
      "env: MKL_DEBUG_CPU_TYPE=5\n"
     ]
    }
   ],
   "source": [
    "%load_ext autoreload\n",
    "%autoreload 2\n",
    "# %env CUDA_DEVICE_ORDER=PCI_BUS_ID\n",
    "# %env CUDA_VISIBLE_DEVICES=1\n",
    "# %env CUDA_LAUNCH_BLOCKING=1\n",
    "%env MKL_NUM_THREADS=1\n",
    "%env OMP_NUM_THREADS=1\n",
    "%env NUMEXPR_NUM_THREADS=1\n",
    "%env MKL_DEBUG_CPU_TYPE=5"
   ]
  },
  {
   "cell_type": "code",
   "execution_count": 2,
   "metadata": {},
   "outputs": [
    {
     "name": "stderr",
     "output_type": "stream",
     "text": [
      "2022-06-28 08:59:31.911476: I tensorflow/core/platform/cpu_feature_guard.cc:143] Your CPU supports instructions that this TensorFlow binary was not compiled to use: AVX2 FMA\n",
      "2022-06-28 08:59:31.936549: I tensorflow/core/platform/profile_utils/cpu_utils.cc:102] CPU Frequency: 2399990000 Hz\n",
      "2022-06-28 08:59:31.939630: I tensorflow/compiler/xla/service/service.cc:168] XLA service 0x7fa368000b60 initialized for platform Host (this does not guarantee that XLA will be used). Devices:\n",
      "2022-06-28 08:59:31.939690: I tensorflow/compiler/xla/service/service.cc:176]   StreamExecutor device (0): Host, Default Version\n",
      "2022-06-28 08:59:31.943692: W tensorflow/stream_executor/platform/default/dso_loader.cc:55] Could not load dynamic library 'libcuda.so.1'; dlerror: libcuda.so.1: cannot open shared object file: No such file or directory; LD_LIBRARY_PATH: /opt/nvidia/hpc_sdk/Linux_x86_64/21.2/compilers/extras/qd/lib:/opt/nvidia/hpc_sdk/Linux_x86_64/21.2/comm_libs/11.2/nccl/lib:/opt/nvidia/hpc_sdk/Linux_x86_64/21.2/comm_libs/openmpi/openmpi-3.1.5/lib:/opt/nvidia/hpc_sdk/Linux_x86_64/21.2/comm_libs/11.2/nccl/lib:/opt/nvidia/hpc_sdk/Linux_x86_64/21.2/compilers/lib:/opt/nvidia/hpc_sdk/Linux_x86_64/21.2/cuda/11.2/lib64:/opt/nvidia/hpc_sdk/Linux_x86_64/21.2/math_libs/11.2/lib64:\n",
      "2022-06-28 08:59:31.943719: E tensorflow/stream_executor/cuda/cuda_driver.cc:313] failed call to cuInit: UNKNOWN ERROR (303)\n",
      "2022-06-28 08:59:31.943746: I tensorflow/stream_executor/cuda/cuda_diagnostics.cc:156] kernel driver does not appear to be running on this host (catgym-0): /proc/driver/nvidia/version does not exist\n"
     ]
    }
   ],
   "source": [
    "from tensorflow.compat.v1 import ConfigProto\n",
    "from tensorflow.compat.v1 import InteractiveSession\n",
    "\n",
    "config = ConfigProto()\n",
    "config.gpu_options.allow_growth = True\n",
    "session = InteractiveSession(config=config)"
   ]
  },
  {
   "cell_type": "markdown",
   "metadata": {},
   "source": [
    "# Set up the gym and wrap a monitor around it that will periodically record movies as it learns"
   ]
  },
  {
   "cell_type": "code",
   "execution_count": 3,
   "metadata": {},
   "outputs": [],
   "source": [
    "import gym\n",
    "from clusgym_env_unique_minima  import MCSEnv\n",
    "from callback_simple import Callback\n",
    "from tensorforce.execution import Runner\n",
    "import gym.wrappers \n",
    "import numpy as np\n",
    "import tensorforce\n",
    "import copy\n",
    "import tensorflow as tf\n",
    "import os"
   ]
  },
  {
   "cell_type": "code",
   "execution_count": 4,
   "metadata": {},
   "outputs": [],
   "source": [
    "#"
   ]
  },
  {
   "cell_type": "code",
   "execution_count": 5,
   "metadata": {},
   "outputs": [],
   "source": [
    "timesteps = 500\n",
    "num_parallel = 32\n",
    "seed = 30\n",
    "eleNames = ['Ni']\n",
    "eleNums = [8]\n",
    "clus_seed = 100\n",
    "save_dir = './result_multi_env/'"
   ]
  },
  {
   "cell_type": "code",
   "execution_count": null,
   "metadata": {},
   "outputs": [],
   "source": []
  },
  {
   "cell_type": "code",
   "execution_count": 6,
   "metadata": {},
   "outputs": [
    {
     "name": "stdout",
     "output_type": "stream",
     "text": [
      "initial energy 11.252397013520229\n"
     ]
    },
    {
     "name": "stderr",
     "output_type": "stream",
     "text": [
      "/opt/conda/lib/python3.8/site-packages/gym/wrappers/monitor.py:86: UserWarning: \u001b[33mWARN: Trying to monitor an environment which has no 'spec' set. This usually means you did not create it via 'gym.make', and is recommended only for advanced users.\u001b[0m\n",
      "  logger.warn(\n"
     ]
    }
   ],
   "source": [
    "def setup_env(recording=True, structure=None, structure_idx=None):\n",
    "    \n",
    "    # Set up gym\n",
    "    MCS_gym = MCSEnv(eleNames=eleNames,\n",
    "                     eleNums=eleNums,\n",
    "                     clus_seed=clus_seed,\n",
    "                     observation_fingerprints=True, \n",
    "                     save_dir = save_dir,\n",
    "                     timesteps = timesteps,\n",
    "                     save_every = 1,\n",
    "                    )\n",
    "    \n",
    "    if recording:\n",
    "    # Wrap the gym to provide video rendering every 50 steps\n",
    "        MCS_gym = gym.wrappers.Monitor(MCS_gym, \n",
    "                                         os.path.join(save_dir, 'vid'), \n",
    "                                         force=True,\n",
    "                                        video_callable = lambda episode_id: (episode_id+1)%30==0) #every 50, starting at 51\n",
    "    \n",
    "    #Convert gym to tensorforce environment\n",
    "    env = tensorforce.environments.OpenAIGym(MCS_gym,\n",
    "                                         max_episode_timesteps=timesteps,\n",
    "                                         visualize=False)\n",
    "    \n",
    "    return env\n",
    "    \n",
    "env = setup_env().environment.env\n",
    "print('initial energy', env.initial_energy)"
   ]
  },
  {
   "cell_type": "code",
   "execution_count": 7,
   "metadata": {},
   "outputs": [
    {
     "name": "stdout",
     "output_type": "stream",
     "text": [
      "Atoms(symbols='Ni8', pbc=True, cell=[22.476408257419912, 24.757224523586167, 21.445956314611653], calculator=EMT(...))\n",
      "[[ 9.14795472 13.29311352 11.21427005]\n",
      " [11.39683897 12.62050761 11.97393969]\n",
      " [10.72578025 14.9645181  11.96131213]\n",
      " [10.3375256  11.55059875  9.99042448]\n",
      " [ 9.49096169 11.12674832 12.2275232 ]\n",
      " [11.60442279 10.2688204  11.54775543]\n",
      " [12.92006015 14.34479348 11.28625192]\n",
      " [11.09164477 13.84491073  9.83883306]]\n"
     ]
    }
   ],
   "source": [
    "print(env.atoms)\n",
    "print(env.atoms.get_positions())\n",
    "from ase.io import write\n",
    "write(\"initial_clus.traj\", env.atoms)"
   ]
  },
  {
   "cell_type": "code",
   "execution_count": null,
   "metadata": {},
   "outputs": [],
   "source": [
    "#"
   ]
  },
  {
   "cell_type": "markdown",
   "metadata": {},
   "source": [
    "# Set up the gym and agent in tensorforce"
   ]
  },
  {
   "cell_type": "code",
   "execution_count": 8,
   "metadata": {
    "scrolled": false
   },
   "outputs": [
    {
     "name": "stdout",
     "output_type": "stream",
     "text": [
      "WARNING:tensorflow:From /opt/conda/lib/python3.8/site-packages/tensorflow/python/ops/resource_variable_ops.py:1659: calling BaseResourceVariable.__init__ (from tensorflow.python.ops.resource_variable_ops) with constraint is deprecated and will be removed in a future version.\n",
      "Instructions for updating:\n",
      "If using Keras pass *_constraint arguments to layers.\n",
      "WARNING:tensorflow:From /opt/conda/lib/python3.8/site-packages/tensorforce/core/module.py:698: calling while_loop_v2 (from tensorflow.python.ops.control_flow_ops) with back_prop=False is deprecated and will be removed in a future version.\n",
      "Instructions for updating:\n",
      "back_prop=False is deprecated. Consider using tf.stop_gradient instead.\n",
      "Instead of:\n",
      "results = tf.while_loop(c, b, vars, back_prop=False)\n",
      "Use:\n",
      "results = tf.nest.map_structure(tf.stop_gradient, tf.while_loop(c, b, vars))\n",
      "INFO:tensorflow:Graph was finalized.\n",
      "INFO:tensorflow:Running local_init_op.\n",
      "INFO:tensorflow:Done running local_init_op.\n"
     ]
    }
   ],
   "source": [
    "from tensorforce.agents import Agent\n",
    "tf.random.set_seed(seed)\n",
    "agent = Agent.create(\n",
    "    agent=dict(type='trpo'),\n",
    "#     agent=dict(type='trpo', critic_network='auto', critic_optimizer=1.0),\n",
    "    environment=setup_env(), \n",
    "    batch_size=1,\n",
    "    learning_rate=1e-3,\n",
    "    memory = 50000,\n",
    "#     memory = dict(type='replay',capacity=10000),\n",
    "    max_episode_timesteps = timesteps,\n",
    "    exploration=dict(\n",
    "        type='decaying', unit='timesteps', decay='exponential',\n",
    "        initial_value=0.2, decay_steps=50000, decay_rate=0.5 #10000, 1000000\n",
    "    ),\n",
    "    \n",
    "    parallel_interactions = num_parallel,\n",
    "    \n",
    ")\n",
    "    "
   ]
  },
  {
   "cell_type": "markdown",
   "metadata": {},
   "source": [
    "# Run the DRL method in parallel (multiple environments)"
   ]
  },
  {
   "cell_type": "code",
   "execution_count": null,
   "metadata": {
    "scrolled": false
   },
   "outputs": [
    {
     "name": "stderr",
     "output_type": "stream",
     "text": [
      "Episodes:   2%|▏         | 428/20480 [03:10, reward=-14069.91, ts/ep=107, sec/ep=23.39, ms/ts=218.6, agent=1.4%, comm=84.6%]"
     ]
    }
   ],
   "source": [
    "num_episodes = num_parallel*640\n",
    "callback = Callback(save_dir).episode_finish\n",
    "\n",
    "runner = Runner(\n",
    "    agent=agent,\n",
    "    environments=[setup_env(recording=False) for _ in range(num_parallel)],\n",
    "    num_parallel=num_parallel,\n",
    "    remote='multiprocessing',\n",
    "    max_episode_timesteps=timesteps,\n",
    ")\n",
    "\n",
    "#runner.run(num_episodes=num_parallel*250, callback=callback, callback_episode_frequency=1)\n",
    "runner.run(num_episodes=num_episodes, callback=callback, callback_episode_frequency=1)\n",
    "# runner.run(num_episodes=100, evaluation=True)\n",
    "runner.close()\n"
   ]
  },
  {
   "cell_type": "markdown",
   "metadata": {},
   "source": [
    "# Run a single Env"
   ]
  },
  {
   "cell_type": "code",
   "execution_count": 9,
   "metadata": {
    "scrolled": true
   },
   "outputs": [
    {
     "name": "stderr",
     "output_type": "stream",
     "text": [
      "Episodes: 100%|██████████| 100/100 [12:46, reward=-108675.00, ts/ep=423, sec/ep=14.70, ms/ts=34.8, agent=7.9%]"
     ]
    }
   ],
   "source": [
    "\n",
    "#plot_frequency --> plotting energy and trajectories frequency\n",
    "callback = Callback(save_dir).episode_finish\n",
    "\n",
    "runner2 = Runner(\n",
    "    agent=agent,\n",
    "    environment=setup_env(recording=False),\n",
    "    max_episode_timesteps=timesteps,\n",
    ")\n",
    "\n",
    "# %prun runner.run(num_episodes=2, callback=callback, callback_episode_frequency=1)\n",
    "\n",
    "# callback_episode_frequency --> saving results and trajs frequency\n",
    "runner2.run(num_episodes=100, callback=callback, callback_episode_frequency=1)\n",
    "# runner2.run(num_episodes=100, evaluation=True)\n",
    "# runner2.close()"
   ]
  },
  {
   "cell_type": "code",
   "execution_count": null,
   "metadata": {},
   "outputs": [],
   "source": []
  }
 ],
 "metadata": {
  "kernelspec": {
   "display_name": "Python 3 (ipykernel)",
   "language": "python",
   "name": "python3"
  },
  "language_info": {
   "codemirror_mode": {
    "name": "ipython",
    "version": 3
   },
   "file_extension": ".py",
   "mimetype": "text/x-python",
   "name": "python",
   "nbconvert_exporter": "python",
   "pygments_lexer": "ipython3",
   "version": "3.8.10"
  }
 },
 "nbformat": 4,
 "nbformat_minor": 1
}
