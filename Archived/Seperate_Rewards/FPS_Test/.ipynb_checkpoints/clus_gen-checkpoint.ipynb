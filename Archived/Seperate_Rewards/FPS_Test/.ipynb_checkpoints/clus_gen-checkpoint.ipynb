{
 "cells": [
  {
   "cell_type": "code",
   "execution_count": 1,
   "id": "5dda8173",
   "metadata": {},
   "outputs": [],
   "source": [
    "from ase import Atoms\n",
    "from ase.data import atomic_numbers, covalent_radii\n",
    "from ase import neighborlist\n",
    "from clus_utils import  addAtoms, fixOverlap, checkBonded, checkSimilar\n",
    "from ase.calculators.emt import EMT\n",
    "import numpy as np\n",
    "from ase.optimize import BFGS\n",
    "import random\n",
    "from ase.io  import read, write, Trajectory"
   ]
  },
  {
   "cell_type": "code",
   "execution_count": 2,
   "id": "56943391",
   "metadata": {},
   "outputs": [],
   "source": [
    "def ase_to_list(clus):\n",
    "        list_coord = []\n",
    "        for i in range(len(clus)):\n",
    "                elem, x, y, z = clus.get_chemical_symbols()[i],  clus.get_positions()[i][0], clus.get_positions()[i][1], clus.get_positions()[i][2]\n",
    "                list_coord.append([elem, x, y , z])    \n",
    "        clus = list_coord\n",
    "        return clus"
   ]
  },
  {
   "cell_type": "code",
   "execution_count": 3,
   "id": "ad4cc551",
   "metadata": {},
   "outputs": [],
   "source": [
    "#"
   ]
  },
  {
   "cell_type": "code",
   "execution_count": 22,
   "id": "05911312",
   "metadata": {},
   "outputs": [],
   "source": [
    "DIRECTION =[np.array([1,0,0]),\n",
    "           np.array([-1,0,0]),\n",
    "           np.array([0,1,0]),\n",
    "           np.array([0,-1,0]),\n",
    "           np.array([0,0,1]),\n",
    "           np.array([0,0,-1]),\n",
    "          ]\n",
    "\n",
    "class ClusEnv():\n",
    "    \n",
    "    def __init__(self,\n",
    "                 eleNames=None,\n",
    "                 eleNums=None\n",
    "                ):\n",
    "        \n",
    "        self.eleNames = eleNames\n",
    "        self.eleNums= eleNums\n",
    "        self.eleRadii = [covalent_radii[atomic_numbers[ele]] for ele in eleNames]\n",
    "        self.seed = 100\n",
    "    \n",
    "    def gen_clus(self):\n",
    "        ele_initial = [self.eleNames[0], self.eleNames[-1]]\n",
    "        d = (self.eleRadii[0] + self.eleRadii[-1]) / 2\n",
    "        clusm = Atoms(ele_initial, [(-d, 0.0, 0.0), (d, 0.0, 0.0)])\n",
    "        clus = addAtoms(clusm, self.eleNames, self.eleNums, self.eleRadii, self.seed)\n",
    "        clus = fixOverlap(clus)\n",
    "        return clus, d"
   ]
  },
  {
   "cell_type": "code",
   "execution_count": 23,
   "id": "8eb310ce",
   "metadata": {},
   "outputs": [
    {
     "name": "stdout",
     "output_type": "stream",
     "text": [
      "[-1  0  0]\n"
     ]
    }
   ],
   "source": [
    "import random\n",
    "shift_move = random.choice(DIRECTION)\n",
    "print(shift_move)"
   ]
  },
  {
   "cell_type": "code",
   "execution_count": 24,
   "id": "751a83b2",
   "metadata": {},
   "outputs": [],
   "source": [
    "ele_Names = ['Ni']\n",
    "ele_Nums = [8]\n",
    "clus_example = ClusEnv(ele_Names, ele_Nums)"
   ]
  },
  {
   "cell_type": "code",
   "execution_count": 25,
   "id": "a3b24d56",
   "metadata": {},
   "outputs": [
    {
     "data": {
      "text/plain": [
       "[8]"
      ]
     },
     "execution_count": 25,
     "metadata": {},
     "output_type": "execute_result"
    }
   ],
   "source": [
    "clus_example.eleNums"
   ]
  },
  {
   "cell_type": "code",
   "execution_count": 26,
   "id": "58b57e81",
   "metadata": {},
   "outputs": [
    {
     "name": "stdout",
     "output_type": "stream",
     "text": [
      "Atoms(symbols='Ni8', pbc=True, cell=[22.476408257419912, 24.757224523586167, 21.445956314611653], calculator=EMT(...))\n",
      "1.24\n"
     ]
    }
   ],
   "source": [
    "clus_ex1,d = clus_example.gen_clus()\n",
    "print(clus_ex1)\n",
    "print(d)"
   ]
  },
  {
   "cell_type": "code",
   "execution_count": 28,
   "id": "a0159bd5",
   "metadata": {},
   "outputs": [
    {
     "name": "stdout",
     "output_type": "stream",
     "text": [
      "[[ 9.14795472 13.29311352 11.21427005]\n",
      " [11.39683897 12.62050761 11.97393969]\n",
      " [10.72578025 14.9645181  11.96131213]\n",
      " [10.3375256  11.55059875  9.99042448]\n",
      " [ 9.49096169 11.12674832 12.2275232 ]\n",
      " [11.60442279 10.2688204  11.54775543]\n",
      " [12.92006015 14.34479348 11.28625192]\n",
      " [11.09164477 13.84491073  9.83883306]]\n",
      "11.247617915245007\n"
     ]
    }
   ],
   "source": [
    "print(clus_ex1.get_positions())\n",
    "print(clus_ex1.get_potential_energy())"
   ]
  },
  {
   "cell_type": "code",
   "execution_count": 29,
   "id": "75ab297e",
   "metadata": {},
   "outputs": [
    {
     "data": {
      "text/plain": [
       "array([[0.40700252, 0.53693876, 0.52290837],\n",
       "       [0.50705784, 0.5097707 , 0.55833088],\n",
       "       [0.4772017 , 0.60445055, 0.55774207],\n",
       "       [0.45992783, 0.46655467, 0.46584187],\n",
       "       [0.42226327, 0.4494344 , 0.57015519],\n",
       "       [0.51629347, 0.41478076, 0.53845841],\n",
       "       [0.57482761, 0.57941848, 0.5262648 ],\n",
       "       [0.49347941, 0.55922709, 0.45877334]])"
      ]
     },
     "execution_count": 29,
     "metadata": {},
     "output_type": "execute_result"
    }
   ],
   "source": [
    "clus_ex1.get_scaled_positions()"
   ]
  },
  {
   "cell_type": "code",
   "execution_count": 30,
   "id": "ecfe430c",
   "metadata": {},
   "outputs": [
    {
     "data": {
      "text/plain": [
       "array(['Ni', 'Ni', 'Ni', 'Ni', 'Ni', 'Ni', 'Ni', 'Ni'], dtype='<U2')"
      ]
     },
     "execution_count": 30,
     "metadata": {},
     "output_type": "execute_result"
    }
   ],
   "source": [
    "elements = np.array(clus_ex1.symbols)\n",
    "elements"
   ]
  },
  {
   "cell_type": "code",
   "execution_count": 31,
   "id": "1d4177c8",
   "metadata": {},
   "outputs": [],
   "source": [
    " _, idx = np.unique(elements, return_index=True)\n",
    "        "
   ]
  },
  {
   "cell_type": "code",
   "execution_count": 32,
   "id": "d50134bc",
   "metadata": {},
   "outputs": [
    {
     "data": {
      "text/plain": [
       "(array(['Ni'], dtype='<U2'), array([0], dtype=int64))"
      ]
     },
     "execution_count": 32,
     "metadata": {},
     "output_type": "execute_result"
    }
   ],
   "source": [
    "np.unique(elements, return_index=True)"
   ]
  },
  {
   "cell_type": "code",
   "execution_count": 33,
   "id": "08ec85a2",
   "metadata": {},
   "outputs": [
    {
     "data": {
      "text/plain": [
       "['Ni']"
      ]
     },
     "execution_count": 33,
     "metadata": {},
     "output_type": "execute_result"
    }
   ],
   "source": [
    "elements = list(elements[np.sort(idx)])\n",
    "elements"
   ]
  },
  {
   "cell_type": "code",
   "execution_count": 34,
   "id": "519d9731",
   "metadata": {},
   "outputs": [
    {
     "name": "stdout",
     "output_type": "stream",
     "text": [
      "[[ 9.14795472 13.29311352 11.21427005]\n",
      " [11.39683897 12.62050761 11.97393969]\n",
      " [10.72578025 14.9645181  11.96131213]\n",
      " [10.3375256  11.55059875  9.99042448]\n",
      " [ 9.49096169 11.12674832 12.2275232 ]\n",
      " [11.60442279 10.2688204  11.54775543]\n",
      " [12.92006015 14.34479348 11.28625192]\n",
      " [11.09164477 13.84491073  9.83883306]]\n",
      "11.247617915245007\n"
     ]
    }
   ],
   "source": [
    "print(clus_ex1.get_positions())\n",
    "print(clus_ex1.get_potential_energy())"
   ]
  },
  {
   "cell_type": "code",
   "execution_count": 35,
   "id": "c6a7bb7d",
   "metadata": {},
   "outputs": [
    {
     "name": "stdout",
     "output_type": "stream",
     "text": [
      "Ni 9.147954723017284 13.293113519980743 11.21427004538659\n",
      "Ni 11.396838968282559 12.620507612573057 11.97393968798315\n",
      "Ni 10.725780248982085 14.964518096429165 11.961312127540323\n",
      "Ni 10.337525598726124 11.550598753539557 9.99042448452603\n",
      "Ni 9.49096168764224 11.126748316424596 12.227523195645974\n",
      "Ni 11.604422791798925 10.26882040206121 11.54775543210747\n",
      "Ni 12.920060151993853 14.344793478443979 11.2862519232422\n",
      "Ni 11.091644768726841 13.844910725411994 9.838833064921106\n"
     ]
    }
   ],
   "source": [
    "clus_ex1_list = ase_to_list(clus_ex1)\n",
    "clus_ex1_list\n",
    "for item in clus_ex1_list:\n",
    "  print(item[0], item[1], item[2], item[3])"
   ]
  },
  {
   "cell_type": "code",
   "execution_count": null,
   "id": "86469732",
   "metadata": {},
   "outputs": [],
   "source": [
    "i = 10\n",
    "dist_before = clus_ex1.get_all_distances()[i]\n",
    "print(dist_before)"
   ]
  },
  {
   "cell_type": "code",
   "execution_count": null,
   "id": "0f96e21d",
   "metadata": {},
   "outputs": [],
   "source": [
    "print(clus_ex1.get_positions()[i])\n",
    "b = clus_ex1.get_positions()[i] + shift_move\n",
    "print(b)"
   ]
  },
  {
   "cell_type": "code",
   "execution_count": null,
   "id": "a7e2971e",
   "metadata": {},
   "outputs": [],
   "source": [
    "clus_ex2 = clus_ex1.copy()\n",
    "clus_ex2[i].position = b\n",
    "clus_ex2.calc = EMT()\n",
    "clus_ex2.get_positions()[i]"
   ]
  },
  {
   "cell_type": "code",
   "execution_count": null,
   "id": "90a60397",
   "metadata": {},
   "outputs": [],
   "source": [
    "print(clus_ex2.get_positions())\n",
    "print(clus_ex2.get_potential_energy())"
   ]
  },
  {
   "cell_type": "code",
   "execution_count": null,
   "id": "bfcc5b8a",
   "metadata": {},
   "outputs": [],
   "source": [
    "clus_ex2_list = ase_to_list(clus_ex2)\n",
    "clus_ex2_list\n",
    "for item in clus_ex2_list:\n",
    "  print(item[0], item[1], item[2], item[3])"
   ]
  },
  {
   "cell_type": "code",
   "execution_count": null,
   "id": "da134018",
   "metadata": {},
   "outputs": [],
   "source": [
    "dist_after = clus_ex2.get_all_distances()[i]\n",
    "print(dist_after)"
   ]
  },
  {
   "cell_type": "code",
   "execution_count": null,
   "id": "d6738bed",
   "metadata": {},
   "outputs": [],
   "source": [
    "z = []\n",
    "for k, dist in enumerate(dist_after):\n",
    "   \n",
    "    print(dist)\n",
    "    if  k != i and dist < d:\n",
    "        z.append(dist)\n",
    "print(z)\n",
    "\n",
    "z1 = [ dist for k, dist in enumerate(dist_after) if  k != i and dist < d ]\n",
    "print(z1)"
   ]
  },
  {
   "cell_type": "code",
   "execution_count": null,
   "id": "9c03beda",
   "metadata": {},
   "outputs": [],
   "source": [
    "dyn= BFGS(clus_ex2)\n",
    "dyn.run(fmax=0.02, steps=1000)\n"
   ]
  },
  {
   "cell_type": "code",
   "execution_count": null,
   "id": "daad1477",
   "metadata": {},
   "outputs": [],
   "source": [
    "clus_ex2.get_potential_energy()\n",
    "    "
   ]
  },
  {
   "cell_type": "code",
   "execution_count": null,
   "id": "6f97bd31",
   "metadata": {},
   "outputs": [],
   "source": [
    "clus_ex2.get_distances(i, [0,1,2,3,4,5,6,7,8,9, 10])"
   ]
  },
  {
   "cell_type": "code",
   "execution_count": null,
   "id": "efbf462b",
   "metadata": {},
   "outputs": [],
   "source": [
    "bb = checkBonded(clus_ex2)\n",
    "bb"
   ]
  },
  {
   "cell_type": "code",
   "execution_count": null,
   "id": "5f4155e7",
   "metadata": {},
   "outputs": [],
   "source": [
    "print(checkSimilar(clus_ex2, clus_ex1))"
   ]
  },
  {
   "cell_type": "code",
   "execution_count": null,
   "id": "ebf50e9d",
   "metadata": {},
   "outputs": [],
   "source": [
    "print(clus_ex1.get_moments_of_inertia())\n",
    "print(clus_ex2.get_moments_of_inertia())"
   ]
  },
  {
   "cell_type": "code",
   "execution_count": null,
   "id": "40770a03",
   "metadata": {},
   "outputs": [],
   "source": [
    "print(clus_ex2.get_potential_energy())\n",
    "print(clus_ex1.get_potential_energy())"
   ]
  },
  {
   "cell_type": "code",
   "execution_count": null,
   "id": "c1fe68ca",
   "metadata": {},
   "outputs": [],
   "source": [
    "min_ene_list = []\n",
    "def test():\n",
    "    ele_Names = ['Pt']\n",
    "    ele_Nums = [20]\n",
    "    clus_example = ClusEnv(ele_Names, ele_Nums)\n",
    "    clus_ex1,d = clus_example.gen_clus()\n",
    "    \n",
    "    random.seed()\n",
    "    i = random.randint(0,len(clus_ex1)-1)\n",
    "    shift_move = random.choice(DIRECTION)\n",
    "    #print(i,shift_move)\n",
    "\n",
    "    clus_ex2 = clus_ex1.copy()\n",
    "    clus_ex2[i].position =  clus_ex1.get_positions()[i] + shift_move * 2.5\n",
    "    \n",
    "    dist_after = clus_ex2.get_all_distances()[i]\n",
    "    z1 = [ dist for k, dist in enumerate(dist_after) if  k != i and dist < d ]\n",
    "    \n",
    "    clus_ex2.calc = EMT()\n",
    "    dyn= BFGS(clus_ex2, logfile='test.log')\n",
    "    dyn.run(fmax=0.02, steps=1000)\n",
    "\n",
    "    ene1 = clus_ex1.get_potential_energy()\n",
    "    ene2 = clus_ex2.get_potential_energy()\n",
    "    diff_ene = ene2 - ene1\n",
    "\n",
    "    diff_iner = clus_ex2.get_moments_of_inertia() - clus_ex1.get_moments_of_inertia()\n",
    "    \n",
    "    if  checkSimilar(clus_ex2, clus_ex1):\n",
    "    #xx checkSimilar(clus_ex2, clus_ex1)\n",
    "        print(i,shift_move, len(z1), checkSimilar(clus_ex2, clus_ex1), ene2, ene1, diff_iner )\n",
    "        min_ene_list.append(ene2)\n",
    "    return "
   ]
  },
  {
   "cell_type": "code",
   "execution_count": null,
   "id": "7575c5c1",
   "metadata": {},
   "outputs": [],
   "source": [
    "'''\n",
    "for i in range(250):\n",
    "    test()\n",
    "print(min_ene_list)\n",
    "print(len(min_ene_list))\n",
    "print(sorted(min_ene_list))\n",
    "'''"
   ]
  },
  {
   "cell_type": "code",
   "execution_count": null,
   "id": "1dc52acb",
   "metadata": {},
   "outputs": [],
   "source": [
    "min_ene_list = []\n",
    "minima_list = []\n",
    "traj_atom_list = []\n",
    "reward_list  = []\n",
    "def test_new():\n",
    "    ele_Names = ['Pd']\n",
    "    ele_Nums = [13]\n",
    "    clus_example = ClusEnv(ele_Names, ele_Nums)\n",
    "    clus_ex1,d = clus_example.gen_clus()\n",
    "    \n",
    "    ene1 = clus_ex1.get_potential_energy()\n",
    "    if clus_ex1 not in minima_list:\n",
    "        minima_list.append(clus_ex1)\n",
    "        traj_atom_list.append(clus_ex1)\n",
    "    if ene1 not in min_ene_list:\n",
    "        min_ene_list.append(ene1)\n",
    "    \n",
    "    \n",
    "    random.seed()\n",
    "    i = random.randint(0,len(clus_ex1)-1)\n",
    "    shift_move = random.choice(DIRECTION)\n",
    "    #print(i,shift_move)\n",
    "\n",
    "    clus_ex2 = clus_ex1.copy()\n",
    "    clus_ex2[i].position =  clus_ex1.get_positions()[i] + shift_move * 2.5\n",
    "    \n",
    "    dist_after = clus_ex2.get_all_distances()[i]\n",
    "    z1 = [ dist for k, dist in enumerate(dist_after) if  k != i and dist < d ]\n",
    "    \n",
    "    #reward = 0.0\n",
    "    if len(z1) > 0:\n",
    "        reward = 1000.0\n",
    "        reward_list.append(reward)\n",
    "    \n",
    "        \n",
    "    clus_ex2.calc = EMT()\n",
    "    dyn= BFGS(clus_ex2, logfile='test.log')\n",
    "    dyn.run(fmax=0.02, steps=1000)\n",
    "\n",
    "    \n",
    "    ene2 = clus_ex2.get_potential_energy()\n",
    "    diff_ene = ene2 - ene1\n",
    "\n",
    "    diff_iner = clus_ex2.get_moments_of_inertia() - clus_ex1.get_moments_of_inertia()\n",
    "    \n",
    "    print(i,shift_move, len(z1), checkSimilar(clus_ex2, clus_ex1), ene2, ene1, diff_iner )\n",
    "    \n",
    "    minima_bool_list = []\n",
    "    for clus in minima_list:      \n",
    "        minima_bool_list.append(checkSimilar(clus, clus_ex2))\n",
    "    \n",
    "    print(minima_bool_list)     \n",
    "    if any(minima_bool_list):\n",
    "        pass\n",
    "    else:\n",
    "        minima_list.append(clus_ex2)\n",
    "        min_ene_list.append(ene2)\n",
    "        traj_atom_list.append(clus_ex2)\n",
    "            \n",
    "    print(len(minima_list) )   \n",
    "    print(len(min_ene_list))\n",
    "    print(len(traj_atom_list))\n",
    "    print(min_ene_list)\n",
    "    #print(minima_list)\n",
    "    print(reward_list)\n",
    "    write(\"final_minima.traj\", traj_atom_list)\n",
    "    print('\\n')\n",
    "    return "
   ]
  },
  {
   "cell_type": "code",
   "execution_count": null,
   "id": "efb11ab1",
   "metadata": {},
   "outputs": [],
   "source": [
    "for i in range(20):\n",
    "    print('iteration', i)\n",
    "    test_new()\n",
    "#rint(reward)"
   ]
  },
  {
   "cell_type": "code",
   "execution_count": null,
   "id": "0c8506d6",
   "metadata": {},
   "outputs": [],
   "source": [
    "min_ene_list = []\n",
    "minima_list = []\n",
    "traj_atom_list = []\n",
    "reward_list  = []\n",
    "def test_new2():\n",
    "    ele_Names = ['Ni']\n",
    "    ele_Nums = [13]\n",
    "    clus_example = ClusEnv(ele_Names, ele_Nums)\n",
    "    clus_ex1,d = clus_example.gen_clus()\n",
    "    \n",
    "    ene1 = clus_ex1.get_potential_energy()\n",
    "    if clus_ex1 not in minima_list:\n",
    "        minima_list.append(clus_ex1)\n",
    "        traj_atom_list.append(clus_ex1)\n",
    "    if ene1 not in min_ene_list:\n",
    "        min_ene_list.append(ene1)\n",
    "    \n",
    "    \n",
    "    random.seed()\n",
    "    i = random.randint(0,len(clus_ex1)-1)\n",
    "    shift_move = random.choice(DIRECTION)\n",
    "    #print(i,shift_move)\n",
    "\n",
    "    clus_ex2 = clus_ex1.copy()\n",
    "    clus_ex2[i].position =  clus_ex1.get_positions()[i] + shift_move * 2.5\n",
    "    \n",
    "    dist_after = clus_ex2.get_all_distances()[i]\n",
    "    z1 = [ dist for k, dist in enumerate(dist_after) if  k != i and dist < d ]\n",
    "    \n",
    "    #reward = 0.0\n",
    "    if len(z1) > 0:\n",
    "        print('Overlapped atoms')\n",
    "        reward = -100.0\n",
    "        reward_list.append(reward)\n",
    "    \n",
    "    else:   \n",
    "        clus_ex2.calc = EMT()\n",
    "        dyn= BFGS(clus_ex2, logfile='test.log')\n",
    "        dyn.run(fmax=0.02, steps=1000)\n",
    "\n",
    "    \n",
    "        ene2 = clus_ex2.get_potential_energy()\n",
    "        diff_ene = ene2 - ene1\n",
    "        \n",
    "        #reward = 100 * np.exp(10*diff_ene)\n",
    "        #reward_list.append(reward)\n",
    "\n",
    "        diff_iner = clus_ex2.get_moments_of_inertia() - clus_ex1.get_moments_of_inertia()\n",
    "    \n",
    "        #print(i,shift_move, len(z1), checkSimilar(clus_ex2, clus_ex1), ene2, ene1, diff_iner )\n",
    "    \n",
    "        minima_bool_list = []\n",
    "        for clus in minima_list:      \n",
    "            minima_bool_list.append(checkSimilar(clus, clus_ex2))\n",
    "    \n",
    "        print(minima_bool_list)     \n",
    "        if any(minima_bool_list):\n",
    "            reward = 0.0\n",
    "            reward_list.append(reward)\n",
    "        else:\n",
    "            reward = 100 * np.exp((-1)*diff_ene)\n",
    "            reward_list.append(reward)\n",
    "            minima_list.append(clus_ex2)\n",
    "            min_ene_list.append(ene2)\n",
    "            traj_atom_list.append(clus_ex2)\n",
    "            \n",
    "    print(len(minima_list) )   \n",
    "    print(len(min_ene_list))\n",
    "    print(len(traj_atom_list))\n",
    "    print(min_ene_list)\n",
    "    #print(minima_list)\n",
    "    print(reward_list)\n",
    "    print(sum(reward_list))\n",
    "    write(\"final_minima.traj\", traj_atom_list)\n",
    "    print('\\n')\n",
    "    return "
   ]
  },
  {
   "cell_type": "code",
   "execution_count": null,
   "id": "db45c04f",
   "metadata": {},
   "outputs": [],
   "source": [
    "for i in range(200):\n",
    "    print('iteration', i)\n",
    "    test_new2()"
   ]
  },
  {
   "cell_type": "code",
   "execution_count": null,
   "id": "4419ede5",
   "metadata": {},
   "outputs": [],
   "source": []
  },
  {
   "cell_type": "code",
   "execution_count": null,
   "id": "11b8ba6f",
   "metadata": {},
   "outputs": [],
   "source": [
    "min_ene_list = []\n",
    "def test_new4():\n",
    "    ele_Names = ['Pt']\n",
    "    ele_Nums = [10]\n",
    "    clus_example = ClusEnv(ele_Names, ele_Nums)\n",
    "    clus_ex1,d = clus_example.gen_clus()\n",
    "    \n",
    "    random.seed()\n",
    "    i = random.randint(0,len(clus_ex1)-1)\n",
    "    shift_move = random.choice(DIRECTION)\n",
    "    #print(i,shift_move)\n",
    "    ene1 = clus_ex1.get_potential_energy()\n",
    "    iner1 = clus_ex1.get_moments_of_inertia()\n",
    "    \n",
    "    pos_initial = clus_ex1.get_positions()\n",
    "    #print(pos_initial)\n",
    "    clus_ex1_copy = clus_ex1.copy()\n",
    "    \n",
    "    #clus_ex1 = clus_ex1.copy()\n",
    "    clus_ex1[i].position =  clus_ex1.get_positions()[i] + shift_move * 1.5\n",
    "    \n",
    "    pos_final = clus_ex1.get_positions()\n",
    "    print(pos_final)\n",
    "    \n",
    "    dist_after = clus_ex1.get_all_distances()[i]\n",
    "    z1 = [ dist for k, dist in enumerate(dist_after) if  k != i and dist < d ]\n",
    "    \n",
    "    #clus_ex2.calc = EMT()\n",
    "    dyn= BFGS(clus_ex1, logfile='test.log')\n",
    "    dyn.run(fmax=0.02, steps=1000)\n",
    "\n",
    "    #ene1 = clus_ex1.get_potential_energy()\n",
    "    ene2 = clus_ex1.get_potential_energy()\n",
    "    iner2 = clus_ex1.get_moments_of_inertia()\n",
    "    \n",
    "    diff_ene = ene2 - ene1\n",
    "    diff_iner = iner2 -iner1\n",
    "    \n",
    "    #print(pos_final - pos_initial)\n",
    "    #if  checkSimilar(clus_ex1, clus_ex1_copy):\n",
    "    #xx checkSimilar(clus_ex2, clus_ex1)\n",
    "    print(i,shift_move, len(z1), checkSimilar(clus_ex1, clus_ex1_copy), ene2, ene1, diff_iner )\n",
    "    min_ene_list.append(ene2)\n",
    "    print('\\n')\n",
    "    return "
   ]
  },
  {
   "cell_type": "code",
   "execution_count": null,
   "id": "24232d6d",
   "metadata": {},
   "outputs": [],
   "source": [
    "for i in range(300):\n",
    "    print('iteration', i)\n",
    "    test_new4()\n",
    "#rint(reward)"
   ]
  },
  {
   "cell_type": "code",
   "execution_count": null,
   "id": "2fe5451d",
   "metadata": {},
   "outputs": [],
   "source": [
    "history['timesteps'] = [0]\n",
    "history['timesteps'] = history['timesteps'] + [history['timesteps'][-1] + 1]"
   ]
  },
  {
   "cell_type": "code",
   "execution_count": null,
   "id": "15bf1790",
   "metadata": {},
   "outputs": [],
   "source": [
    "print(history)"
   ]
  },
  {
   "cell_type": "code",
   "execution_count": null,
   "id": "e1815499",
   "metadata": {},
   "outputs": [],
   "source": [
    "print(history)"
   ]
  },
  {
   "cell_type": "code",
   "execution_count": null,
   "id": "621d6bf3",
   "metadata": {},
   "outputs": [],
   "source": [
    "history['timesteps'] = history['timesteps'] + [history['timesteps'][-1] + 1]\n",
    "print(history)"
   ]
  },
  {
   "cell_type": "code",
   "execution_count": null,
   "id": "52a0c1cc",
   "metadata": {},
   "outputs": [],
   "source": [
    "[history['timesteps'][-1] + 1]"
   ]
  },
  {
   "cell_type": "code",
   "execution_count": null,
   "id": "65e5866a",
   "metadata": {},
   "outputs": [],
   "source": [
    "history['timesteps']"
   ]
  },
  {
   "cell_type": "code",
   "execution_count": null,
   "id": "6213b095",
   "metadata": {},
   "outputs": [],
   "source": [
    "[0, 1, 2] + [3]"
   ]
  },
  {
   "cell_type": "code",
   "execution_count": null,
   "id": "00ec4c33",
   "metadata": {},
   "outputs": [],
   "source": [
    "minima = {}\n",
    "minima['energies'] = [0.3, -0.32, -1.32, 0.4, 2.0, -3.24, -0.11, 0.001, -0.001, -0.5, 0.43]\n",
    "\n",
    "int(np.argmax(minima['energies']))"
   ]
  },
  {
   "cell_type": "code",
   "execution_count": null,
   "id": "77349cc6",
   "metadata": {},
   "outputs": [],
   "source": [
    "[np.array([0,0,0]).tolist()]"
   ]
  },
  {
   "cell_type": "code",
   "execution_count": null,
   "id": "33163ceb",
   "metadata": {},
   "outputs": [],
   "source": [
    "clus_ex1.get_positions()"
   ]
  },
  {
   "cell_type": "code",
   "execution_count": null,
   "id": "4e3cc3d3",
   "metadata": {},
   "outputs": [],
   "source": [
    "clus_ex1.get_positions().tolist()"
   ]
  },
  {
   "cell_type": "code",
   "execution_count": null,
   "id": "a795076e",
   "metadata": {},
   "outputs": [],
   "source": [
    "observation = {'energy':np.array(0.23).reshape(1,)}\n",
    "observation"
   ]
  },
  {
   "cell_type": "code",
   "execution_count": null,
   "id": "bcf27778",
   "metadata": {},
   "outputs": [],
   "source": [
    "clus_ex1.positions"
   ]
  },
  {
   "cell_type": "code",
   "execution_count": null,
   "id": "4bfb9746",
   "metadata": {},
   "outputs": [],
   "source": [
    "clus_ex1.get_positions()"
   ]
  },
  {
   "cell_type": "code",
   "execution_count": null,
   "id": "d4c5f4b9",
   "metadata": {},
   "outputs": [],
   "source": [
    "clus_ex1.get_positions() - clus_ex1.positions"
   ]
  },
  {
   "cell_type": "code",
   "execution_count": null,
   "id": "2dc202f2",
   "metadata": {},
   "outputs": [],
   "source": [
    "elenums = [4,5,6]\n",
    "eleradii = [1.26, 1.65, 1.51]\n",
    "avg = sum(eleradii)/len(elenums)\n",
    "avg"
   ]
  },
  {
   "cell_type": "code",
   "execution_count": null,
   "id": "7905be46",
   "metadata": {},
   "outputs": [],
   "source": []
  },
  {
   "cell_type": "code",
   "execution_count": null,
   "id": "e7fd7e37",
   "metadata": {},
   "outputs": [],
   "source": [
    "l2[1] = 100\n",
    "l2"
   ]
  },
  {
   "cell_type": "code",
   "execution_count": null,
   "id": "4099767f",
   "metadata": {},
   "outputs": [],
   "source": [
    "l1"
   ]
  },
  {
   "cell_type": "code",
   "execution_count": null,
   "id": "f735018d",
   "metadata": {},
   "outputs": [],
   "source": [
    "l1[1] = 10000"
   ]
  },
  {
   "cell_type": "code",
   "execution_count": null,
   "id": "5c1e8dcf",
   "metadata": {},
   "outputs": [],
   "source": [
    "l1"
   ]
  },
  {
   "cell_type": "code",
   "execution_count": null,
   "id": "cbf52b4e",
   "metadata": {},
   "outputs": [],
   "source": [
    "l2"
   ]
  },
  {
   "cell_type": "code",
   "execution_count": null,
   "id": "d9d3d194",
   "metadata": {},
   "outputs": [],
   "source": [
    "l2[2][1] = 500"
   ]
  },
  {
   "cell_type": "code",
   "execution_count": null,
   "id": "02ceef05",
   "metadata": {},
   "outputs": [],
   "source": [
    "l2"
   ]
  },
  {
   "cell_type": "code",
   "execution_count": null,
   "id": "3023cc58",
   "metadata": {},
   "outputs": [],
   "source": [
    "l1"
   ]
  },
  {
   "cell_type": "code",
   "execution_count": null,
   "id": "8ae7f80b",
   "metadata": {},
   "outputs": [],
   "source": [
    "self.history['timesteps'] = self.history['timesteps'] + [self.history['timesteps'][-1] + 1]\n",
    "        self.history['energies'] = self.history['energies'] + [self.relative_energy]\n",
    "        self.history['positions'] = self.history['positions'] + [self.atoms.get_positions(wrap=False).tolist()]\n",
    "        self.history['scaled_positions'] = self.history['scaled_positions'] + [self.atoms.get_scaled_positions(wrap=False).tolist()]\n",
    "        if self.observation_fingerprints:\n",
    "                 self.history['fingerprints'] = self.history['fingerprints'] + [self.fps.tolist()]\n",
    "                 self.history['initial_fps'] = self.history['initial_fps'] + [self.episode_initial_fps.tolist()]\n"
   ]
  },
  {
   "cell_type": "code",
   "execution_count": null,
   "id": "be17af29",
   "metadata": {},
   "outputs": [],
   "source": [
    "self.minima['minima'].append(self.atoms.copy())\n",
    "                        self.minima['energies'].append(self._get_relative_energy())\n",
    "                        self.minima['timesteps'].append(self.history['timesteps'][-1] + 1)\n",
    "                        self.minima['positions'].append(self.atoms.positions.copy())\n"
   ]
  },
  {
   "cell_type": "code",
   "execution_count": null,
   "id": "78b82f0f",
   "metadata": {},
   "outputs": [],
   "source": [
    "self.all_minima['minima'].append(self.atoms.copy())\n",
    "                self.all_minima['energies'].append(self._get_relative_energy())\n",
    "                self.all_minima['timesteps'].append(self.history['timesteps'][-1] + 1)\n",
    "                self.all_minima['positions'].append(self.atoms.positions.copy())\n"
   ]
  },
  {
   "cell_type": "code",
   "execution_count": null,
   "id": "17b8b445",
   "metadata": {},
   "outputs": [],
   "source": [
    "string = 'I love India'\n",
    "str_list = string.split()\n",
    "print(str_list)\n",
    "for letter in str_list:\n",
    "    print(\"\".join(str_list))\n",
    "    a = \"\".join(letter)\n",
    "    print(a)\n",
    "bb =[]\n",
    "for letter in string:\n",
    "    bb.append(letter)\n",
    "print(\"bb\", bb)\n",
    "cc = \"#\".join(bb)\n",
    "print('cc', cc)"
   ]
  },
  {
   "cell_type": "code",
   "execution_count": null,
   "id": "c96646dc",
   "metadata": {},
   "outputs": [],
   "source": [
    "\"aaa\".join(\"IamRajesh\")"
   ]
  },
  {
   "cell_type": "code",
   "execution_count": null,
   "id": "cf1f8167",
   "metadata": {},
   "outputs": [],
   "source": [
    "eleNames = ['Ni', 'Cu']\n",
    "eleNums = [6, 5]\n",
    "clus_example = ClusEnv(ele_Names, ele_Nums)\n",
    "eleradii = [covalent_radii[atomic_numbers[ele]] for ele in eleNames]\n",
    "eleradii"
   ]
  },
  {
   "cell_type": "code",
   "execution_count": 42,
   "id": "591b13de",
   "metadata": {},
   "outputs": [
    {
     "data": {
      "text/plain": [
       "49.787068367863945"
      ]
     },
     "execution_count": 42,
     "metadata": {},
     "output_type": "execute_result"
    }
   ],
   "source": [
    "relative_energy = +0.3\n",
    "\n",
    "1000 * np.exp((-10) * relative_energy)"
   ]
  },
  {
   "cell_type": "code",
   "execution_count": 52,
   "id": "fd7f39a0",
   "metadata": {
    "scrolled": true
   },
   "outputs": [
    {
     "data": {
      "text/plain": [
       "367.87944117144235"
      ]
     },
     "execution_count": 52,
     "metadata": {},
     "output_type": "execute_result"
    }
   ],
   "source": [
    "relative_energy = +1\n",
    "1000 * np.exp((-1) * relative_energy)"
   ]
  },
  {
   "cell_type": "code",
   "execution_count": 50,
   "id": "b92021f9",
   "metadata": {},
   "outputs": [
    {
     "data": {
      "text/plain": [
       "5.818717881446886e+147"
      ]
     },
     "execution_count": 50,
     "metadata": {},
     "output_type": "execute_result"
    }
   ],
   "source": [
    "relative_energy = -0.003\n",
    "1000 * np.exp( -1/relative_energy)"
   ]
  },
  {
   "cell_type": "code",
   "execution_count": 71,
   "id": "35f13b85",
   "metadata": {},
   "outputs": [
    {
     "data": {
      "text/plain": [
       "100.50125208594011"
      ]
     },
     "execution_count": 71,
     "metadata": {},
     "output_type": "execute_result"
    }
   ],
   "source": [
    "relative_energy = -0.005\n",
    "100/np.exp( relative_energy)"
   ]
  },
  {
   "cell_type": "code",
   "execution_count": 72,
   "id": "df3866b9",
   "metadata": {},
   "outputs": [
    {
     "data": {
      "text/plain": [
       "100.5012520859401"
      ]
     },
     "execution_count": 72,
     "metadata": {},
     "output_type": "execute_result"
    }
   ],
   "source": [
    "relative_energy = -0.005\n",
    "100 * np.exp( -relative_energy)"
   ]
  },
  {
   "cell_type": "code",
   "execution_count": 74,
   "id": "f716e8da",
   "metadata": {},
   "outputs": [
    {
     "data": {
      "text/plain": [
       "array([11, 19, 22,  5,  5, 22, 16, 25, 16,  1, 42, 17, 22, 33, 48, 18, 39,\n",
       "       39, 12, 44, 46, 17, 28, 37, 29,  1, 39, 21, 16,  7, 23, 48, 34, 38,\n",
       "       25,  2,  5, 29, 28, 39, 25, 43, 46, 48, 30, 14, 21, 23, 47,  0, 36,\n",
       "       17,  9, 12, 34, 18, 18, 44, 38, 33, 10, 46, 15, 38, 28, 37, 36, 35,\n",
       "       31, 21, 26, 11,  4, 46,  0,  0,  5, 26, 43, 15, 48, 35, 10, 17, 13,\n",
       "       42, 35, 30, 45,  5,  9, 35,  8,  1, 42, 39, 12, 19, 27, 40])"
      ]
     },
     "execution_count": 74,
     "metadata": {},
     "output_type": "execute_result"
    }
   ],
   "source": [
    "x = np.random.randint(low=0, high=50, size=100)\n",
    "x"
   ]
  },
  {
   "cell_type": "code",
   "execution_count": 75,
   "id": "5d8dff89",
   "metadata": {},
   "outputs": [
    {
     "data": {
      "text/plain": [
       "array([  0,   5,  10,  15,  20,  25,  30,  35,  40,  45,  50,  55,  60,\n",
       "        65,  70,  75,  80,  85,  90,  95, 100])"
      ]
     },
     "execution_count": 75,
     "metadata": {},
     "output_type": "execute_result"
    }
   ],
   "source": [
    "np.arange(0, len(x)+1, 5)"
   ]
  },
  {
   "cell_type": "code",
   "execution_count": 83,
   "id": "883b9705",
   "metadata": {},
   "outputs": [
    {
     "data": {
      "text/plain": [
       "array([0.   , 0.005, 0.01 , 0.015, 0.02 ])"
      ]
     },
     "execution_count": 83,
     "metadata": {},
     "output_type": "execute_result"
    }
   ],
   "source": [
    "np.linspace(0, 0.02, num=5)"
   ]
  },
  {
   "cell_type": "code",
   "execution_count": null,
   "id": "8f7de05e",
   "metadata": {},
   "outputs": [],
   "source": []
  }
 ],
 "metadata": {
  "kernelspec": {
   "display_name": "Python 3 (ipykernel)",
   "language": "python",
   "name": "python3"
  },
  "language_info": {
   "codemirror_mode": {
    "name": "ipython",
    "version": 3
   },
   "file_extension": ".py",
   "mimetype": "text/x-python",
   "name": "python",
   "nbconvert_exporter": "python",
   "pygments_lexer": "ipython3",
   "version": "3.9.12"
  }
 },
 "nbformat": 4,
 "nbformat_minor": 5
}
