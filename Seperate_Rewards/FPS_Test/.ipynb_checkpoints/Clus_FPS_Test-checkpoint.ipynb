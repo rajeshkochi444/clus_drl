{
 "cells": [
  {
   "cell_type": "code",
   "execution_count": 11,
   "id": "662b16a3",
   "metadata": {},
   "outputs": [],
   "source": [
    "from ase import Atoms\n",
    "from ase.data import atomic_numbers, covalent_radii\n",
    "from ase import neighborlist\n",
    "from clus_utils import  addAtoms, fixOverlap, checkBonded, checkSimilar\n",
    "from ase.calculators.emt import EMT\n",
    "import numpy as np\n",
    "from ase.optimize import BFGS\n",
    "import random\n",
    "from ase.io  import read, write, Trajectory\n",
    "from symmetry_function import make_snn_params, wrap_symmetry_functions"
   ]
  },
  {
   "cell_type": "code",
   "execution_count": 2,
   "id": "11aad2a1",
   "metadata": {},
   "outputs": [],
   "source": [
    "def ase_to_list(clus):\n",
    "        list_coord = []\n",
    "        for i in range(len(clus)):\n",
    "                elem, x, y, z = clus.get_chemical_symbols()[i],  clus.get_positions()[i][0], clus.get_positions()[i][1], clus.get_positions()[i][2]\n",
    "                list_coord.append([elem, x, y , z])    \n",
    "        clus = list_coord\n",
    "        return clus"
   ]
  },
  {
   "cell_type": "code",
   "execution_count": 14,
   "id": "7d240262",
   "metadata": {},
   "outputs": [],
   "source": [
    "def get_fingerprints(atoms):\n",
    "    #get fingerprints from amptorch as better state space feature\n",
    "    fps = wrap_symmetry_functions(self.atoms, self.snn_params)\n",
    "    fp_length = fps.shape[-1]\n",
    "    return fps, fp_length"
   ]
  },
  {
   "cell_type": "code",
   "execution_count": 16,
   "id": "e8587d0e",
   "metadata": {},
   "outputs": [
    {
     "ename": "IndentationError",
     "evalue": "expected an indented block (3080022484.py, line 30)",
     "output_type": "error",
     "traceback": [
      "\u001b[0;36m  Input \u001b[0;32mIn [16]\u001b[0;36m\u001b[0m\n\u001b[0;31m    self.initial_atoms, self.elements = self._generate_clus()\u001b[0m\n\u001b[0m    ^\u001b[0m\n\u001b[0;31mIndentationError\u001b[0m\u001b[0;31m:\u001b[0m expected an indented block\n"
     ]
    }
   ],
   "source": [
    "DIRECTION =[np.array([1,0,0]),\n",
    "           np.array([-1,0,0]),\n",
    "           np.array([0,1,0]),\n",
    "           np.array([0,-1,0]),\n",
    "           np.array([0,0,1]),\n",
    "           np.array([0,0,-1]),\n",
    "          ]\n",
    "\n",
    "class ClusEnv():\n",
    "    \n",
    "    def __init__(self,\n",
    "                 eleNames=None,\n",
    "                 eleNums=None\n",
    "                ):\n",
    "        \n",
    "        self.eleNames = eleNames\n",
    "        self.eleNums= eleNums\n",
    "        self.eleRadii = [covalent_radii[atomic_numbers[ele]] for ele in eleNames]\n",
    "        self.seed = 100\n",
    "    \n",
    "    def gen_clus(self):\n",
    "        ele_initial = [self.eleNames[0], self.eleNames[-1]]\n",
    "        d = (self.eleRadii[0] + self.eleRadii[-1]) / 2\n",
    "        clusm = Atoms(ele_initial, [(-d, 0.0, 0.0), (d, 0.0, 0.0)])\n",
    "        clus = addAtoms(clusm, self.eleNames, self.eleNums, self.eleRadii, self.seed)\n",
    "        clus = fixOverlap(clus)\n",
    "        return clus, d\n",
    "    \n",
    "    def _get_initial_clus(self):\n",
    "        self.initial_atoms, self.elements = self._generate_clus()\n",
    "\n",
    "        if self.descriptors is None:\n",
    "            Gs = {}\n",
    "            Gs[\"G2_etas\"] = np.logspace(np.log10(0.05), np.log10(5.0), num=4)\n",
    "            Gs[\"G2_rs_s\"] = [0] * 4\n",
    "            Gs[\"G4_etas\"] = [0.005]\n",
    "            Gs[\"G4_zetas\"] = [1.0]\n",
    "            Gs[\"G4_gammas\"] = [+1.0, -1]\n",
    "            Gs[\"cutoff\"] = 6.5\n",
    "\n",
    "            G = copy.deepcopy(Gs)\n",
    "\n",
    "            # order descriptors for simple_nn\n",
    "            cutoff = G[\"cutoff\"]\n",
    "            G[\"G2_etas\"] = [a / cutoff**2 for a in G[\"G2_etas\"]]\n",
    "            G[\"G4_etas\"] = [a / cutoff**2 for a in G[\"G4_etas\"]]\n",
    "            descriptors = (\n",
    "                G[\"G2_etas\"],\n",
    "                G[\"G2_rs_s\"],\n",
    "                G[\"G4_etas\"],\n",
    "                G[\"cutoff\"],\n",
    "                G[\"G4_zetas\"],\n",
    "                G[\"G4_gammas\"],\n",
    "            )\n",
    "        self.snn_params = make_snn_params(self.elements, *descriptors)                \n",
    "        return self.initial_atoms, self.snn_params\n",
    "    def get_fingerprints(self,atoms):\n",
    "    #get fingerprints from amptorch as better state space feature\n",
    "    fps = wrap_symmetry_functions(self.atoms, self.snn_params)\n",
    "    fp_length = fps.shape[-1]\n",
    "    return fps, fp_length"
   ]
  },
  {
   "cell_type": "code",
   "execution_count": 15,
   "id": "842fe04b",
   "metadata": {},
   "outputs": [
    {
     "ename": "NameError",
     "evalue": "name 'self' is not defined",
     "output_type": "error",
     "traceback": [
      "\u001b[0;31m---------------------------------------------------------------------------\u001b[0m",
      "\u001b[0;31mNameError\u001b[0m                                 Traceback (most recent call last)",
      "Input \u001b[0;32mIn [15]\u001b[0m, in \u001b[0;36m<module>\u001b[0;34m\u001b[0m\n\u001b[1;32m      4\u001b[0m clus_ex1,d \u001b[38;5;241m=\u001b[39m clus_example\u001b[38;5;241m.\u001b[39mgen_clus()\n\u001b[1;32m      5\u001b[0m ene1 \u001b[38;5;241m=\u001b[39m clus_ex1\u001b[38;5;241m.\u001b[39mget_potential_energy()\n\u001b[0;32m----> 6\u001b[0m fps1, fp_len1 \u001b[38;5;241m=\u001b[39m \u001b[43mget_fingerprints\u001b[49m\u001b[43m(\u001b[49m\u001b[43mclus_ex1\u001b[49m\u001b[43m)\u001b[49m \n\u001b[1;32m      7\u001b[0m \u001b[38;5;28mprint\u001b[39m(fps1, fp_len1)\n\u001b[1;32m      9\u001b[0m random\u001b[38;5;241m.\u001b[39mseed()\n",
      "Input \u001b[0;32mIn [14]\u001b[0m, in \u001b[0;36mget_fingerprints\u001b[0;34m(atoms)\u001b[0m\n\u001b[1;32m      1\u001b[0m \u001b[38;5;28;01mdef\u001b[39;00m \u001b[38;5;21mget_fingerprints\u001b[39m(atoms):\n\u001b[1;32m      2\u001b[0m     \u001b[38;5;66;03m#get fingerprints from amptorch as better state space feature\u001b[39;00m\n\u001b[0;32m----> 3\u001b[0m     fps \u001b[38;5;241m=\u001b[39m wrap_symmetry_functions(\u001b[38;5;28;43mself\u001b[39;49m\u001b[38;5;241m.\u001b[39matoms, \u001b[38;5;28mself\u001b[39m\u001b[38;5;241m.\u001b[39msnn_params)\n\u001b[1;32m      4\u001b[0m     fp_length \u001b[38;5;241m=\u001b[39m fps\u001b[38;5;241m.\u001b[39mshape[\u001b[38;5;241m-\u001b[39m\u001b[38;5;241m1\u001b[39m]\n\u001b[1;32m      5\u001b[0m     \u001b[38;5;28;01mreturn\u001b[39;00m fps, fp_length\n",
      "\u001b[0;31mNameError\u001b[0m: name 'self' is not defined"
     ]
    }
   ],
   "source": [
    "ele_Names = ['Pd']\n",
    "ele_Nums = [13]\n",
    "clus_example = ClusEnv(ele_Names, ele_Nums)\n",
    "clus_ex1,d = clus_example.gen_clus()\n",
    "ene1 = clus_ex1.get_potential_energy()\n",
    "fps1, fp_len1 = get_fingerprints(clus_ex1) \n",
    "print(fps1, fp_len1)\n",
    "\n",
    "random.seed()\n",
    "i = random.randint(0,len(clus_ex1)-1)\n",
    "shift_move = random.choice(DIRECTION)\n",
    "#print(i,shift_move)\n",
    "\n",
    "clus_ex2 = clus_ex1.copy()\n",
    "clus_ex2[i].position =  clus_ex1.get_positions()[i] + shift_move * 2.5        \n",
    "clus_ex2.calc = EMT()\n",
    "dyn= BFGS(clus_ex2, logfile='test.log')\n",
    "dyn.run(fmax=0.02, steps=1000)\n",
    "ene2 = clus_ex2.get_potential_energy()\n",
    "\n",
    "diff_ene = ene2 - ene1\n",
    "diff_iner = clus_ex2.get_moments_of_inertia() - clus_ex1.get_moments_of_inertia()\n",
    "\n",
    "print(ene1, ene2, diff_ene, diff_iner)\n",
    "\n",
    "print(checkSimilar(clus_ex1, clus_ex2))"
   ]
  },
  {
   "cell_type": "code",
   "execution_count": null,
   "id": "d9d4fe85",
   "metadata": {},
   "outputs": [],
   "source": [
    "for i in range(20):\n",
    "    print('iteration', i)\n",
    "    test_new()\n",
    "#rint(reward)"
   ]
  }
 ],
 "metadata": {
  "kernelspec": {
   "display_name": "Python 3 (ipykernel)",
   "language": "python",
   "name": "python3"
  },
  "language_info": {
   "codemirror_mode": {
    "name": "ipython",
    "version": 3
   },
   "file_extension": ".py",
   "mimetype": "text/x-python",
   "name": "python",
   "nbconvert_exporter": "python",
   "pygments_lexer": "ipython3",
   "version": "3.8.10"
  }
 },
 "nbformat": 4,
 "nbformat_minor": 5
}
